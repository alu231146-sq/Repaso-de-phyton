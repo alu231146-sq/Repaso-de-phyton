{
  "nbformat": 4,
  "nbformat_minor": 0,
  "metadata": {
    "colab": {
      "provenance": [],
      "authorship_tag": "ABX9TyNthv1hzSMnhI+qDsLC677v",
      "include_colab_link": true
    },
    "kernelspec": {
      "name": "python3",
      "display_name": "Python 3"
    },
    "language_info": {
      "name": "python"
    }
  },
  "cells": [
    {
      "cell_type": "markdown",
      "metadata": {
        "id": "view-in-github",
        "colab_type": "text"
      },
      "source": [
        "<a href=\"https://colab.research.google.com/github/alu231146-sq/Repaso-de-phyton/blob/main/CarlosAS.ipynb\" target=\"_parent\"><img src=\"https://colab.research.google.com/assets/colab-badge.svg\" alt=\"Open In Colab\"/></a>"
      ]
    },
    {
      "cell_type": "code",
      "execution_count": null,
      "metadata": {
        "id": "3F-8CfK1z9NH"
      },
      "outputs": [],
      "source": [
        "Programa 1 en phyton para imprimir mi nombre con hola mundo"
      ]
    },
    {
      "cell_type": "code",
      "source": [
        "print (\"Hola mundo\")\n",
        "nombre=(input(\"captura tu nombre\"))\n",
        "print (nombre)"
      ],
      "metadata": {
        "colab": {
          "base_uri": "https://localhost:8080/"
        },
        "id": "Mn_jg9E00dwh",
        "outputId": "b8331bea-4686-4ee4-b017-0c2ddaba1e63"
      },
      "execution_count": 4,
      "outputs": [
        {
          "output_type": "stream",
          "name": "stdout",
          "text": [
            "Hola mundo\n",
            "captura tu nombrecarlos\n",
            "carlos\n"
          ]
        }
      ]
    },
    {
      "cell_type": "markdown",
      "source": [
        "Programa 2 captura tu nombre,paterno y materno e imprimirlo en pantalla"
      ],
      "metadata": {
        "id": "_dfriNBP1yJ_"
      }
    },
    {
      "cell_type": "code",
      "source": [
        "print (\"Ingresa tu nombre completo\")\n",
        "n=input(\"Ingresa tu nombre \")\n",
        "m=input(\"Ingresa tu paterno \")\n",
        "o=input(\"Ingresa tu materno \")\n",
        "print (n+ \" \" +m+\" \"+ o)\n"
      ],
      "metadata": {
        "colab": {
          "base_uri": "https://localhost:8080/"
        },
        "id": "MBUizVPy19JO",
        "outputId": "449cb686-b24f-425f-c1b6-5345a3237d30"
      },
      "execution_count": 8,
      "outputs": [
        {
          "output_type": "stream",
          "name": "stdout",
          "text": [
            "Ingresa tu nombre completo\n",
            "Ingresa tu nombre carlos\n",
            "Ingresa tu paterno santa maria \n",
            "Ingresa tu materno ortiz\n",
            "carlos santa maria  ortiz\n"
          ]
        }
      ]
    }
  ]
}