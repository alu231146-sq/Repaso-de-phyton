{
  "nbformat": 4,
  "nbformat_minor": 0,
  "metadata": {
    "colab": {
      "provenance": [],
      "authorship_tag": "ABX9TyNBHN0aS/W/+q6BRV/2cEfX",
      "include_colab_link": true
    },
    "kernelspec": {
      "name": "python3",
      "display_name": "Python 3"
    },
    "language_info": {
      "name": "python"
    }
  },
  "cells": [
    {
      "cell_type": "markdown",
      "metadata": {
        "id": "view-in-github",
        "colab_type": "text"
      },
      "source": [
        "<a href=\"https://colab.research.google.com/github/alu231146-sq/Repaso-de-phyton/blob/main/EvaluacionDiagnostica.ipynb\" target=\"_parent\"><img src=\"https://colab.research.google.com/assets/colab-badge.svg\" alt=\"Open In Colab\"/></a>"
      ]
    },
    {
      "cell_type": "code",
      "execution_count": null,
      "metadata": {
        "id": "sddG2h8Bzdse"
      },
      "outputs": [],
      "source": []
    },
    {
      "cell_type": "markdown",
      "source": [
        "Codigo 1. Imprimir nombre,paterno,materno de Alumno"
      ],
      "metadata": {
        "id": "vkKY9Ntf1HgD"
      }
    },
    {
      "cell_type": "code",
      "source": [
        "print(\"nombre completo de el alumno\")\n",
        "nom=input(\" Ingresa tu nombre \")\n",
        "paterno=input(\" ingresa tu paterno \")\n",
        "materno=input(\" ingresa tu materno \")\n",
        "print(\"\")\n",
        "print(nom+\" \"+paterno+\" \"+materno)"
      ],
      "metadata": {
        "colab": {
          "base_uri": "https://localhost:8080/"
        },
        "id": "Nnf2TeTj0kxR",
        "outputId": "8d5a24a3-bc35-47c6-c1cb-18cf6ac38d48"
      },
      "execution_count": 5,
      "outputs": [
        {
          "output_type": "stream",
          "name": "stdout",
          "text": [
            "nombre completo de el alumno\n",
            " Ingresa tu nombre Carlos\n",
            " ingresa tu paterno Santa Maria \n",
            " ingresa tu materno Ortiz\n",
            "\n",
            "Carlos Santa Maria  Ortiz\n"
          ]
        }
      ]
    },
    {
      "cell_type": "markdown",
      "source": [
        "Codigo 2. Captura 2 numeros decimales e imprimir suma"
      ],
      "metadata": {
        "id": "IFfjzF_53TAq"
      }
    },
    {
      "cell_type": "code",
      "source": [
        "print(\"Ingresa 2 numeros decimales\")\n",
        "num1=float(input(\"ingresa el primer numero\"))\n",
        "num2=float(input(\"ingresa el primer numero\"))\n",
        "suma=float(num1+num2)\n",
        "print(\"la suma es igual a \" +suma)"
      ],
      "metadata": {
        "colab": {
          "base_uri": "https://localhost:8080/"
        },
        "id": "9jSivHkS3eQC",
        "outputId": "2911119b-b20f-4e0d-a8a4-9eb881f968f1"
      },
      "execution_count": 16,
      "outputs": [
        {
          "output_type": "stream",
          "name": "stdout",
          "text": [
            "Ingresa 2 numeros decimales\n",
            "ingresa el primer numero0.2\n",
            "ingresa el primer numero0.2\n",
            "0.4\n"
          ]
        }
      ]
    },
    {
      "cell_type": "markdown",
      "source": [
        "codigo 4\n"
      ],
      "metadata": {
        "id": "L2Rd2TsH6WnA"
      }
    },
    {
      "cell_type": "code",
      "source": [
        "\n",
        "print=input(\"Ingresa el radio\")\n",
        "p=float(3.1416)\n",
        "suma=print*p**2\n",
        "print(\"el area de el circulo es \"+suma)\n"
      ],
      "metadata": {
        "colab": {
          "base_uri": "https://localhost:8080/",
          "height": 211
        },
        "id": "s5_V-cHP6Yxw",
        "outputId": "0afe9201-f9e1-4f9c-fae2-2e6f1e90a50d"
      },
      "execution_count": 19,
      "outputs": [
        {
          "name": "stdout",
          "output_type": "stream",
          "text": [
            "Ingresa el radio5\n"
          ]
        },
        {
          "output_type": "error",
          "ename": "TypeError",
          "evalue": "can't multiply sequence by non-int of type 'float'",
          "traceback": [
            "\u001b[0;31m---------------------------------------------------------------------------\u001b[0m",
            "\u001b[0;31mTypeError\u001b[0m                                 Traceback (most recent call last)",
            "\u001b[0;32m/tmp/ipython-input-2655578536.py\u001b[0m in \u001b[0;36m<cell line: 0>\u001b[0;34m()\u001b[0m\n\u001b[1;32m      1\u001b[0m \u001b[0mprint\u001b[0m\u001b[0;34m=\u001b[0m\u001b[0minput\u001b[0m\u001b[0;34m(\u001b[0m\u001b[0;34m\"Ingresa el radio\"\u001b[0m\u001b[0;34m)\u001b[0m\u001b[0;34m\u001b[0m\u001b[0;34m\u001b[0m\u001b[0m\n\u001b[1;32m      2\u001b[0m \u001b[0mp\u001b[0m\u001b[0;34m=\u001b[0m\u001b[0mfloat\u001b[0m\u001b[0;34m(\u001b[0m\u001b[0;36m3.1416\u001b[0m\u001b[0;34m)\u001b[0m\u001b[0;34m\u001b[0m\u001b[0;34m\u001b[0m\u001b[0m\n\u001b[0;32m----> 3\u001b[0;31m \u001b[0msuma\u001b[0m\u001b[0;34m=\u001b[0m\u001b[0mprint\u001b[0m\u001b[0;34m*\u001b[0m\u001b[0mp\u001b[0m\u001b[0;34m**\u001b[0m\u001b[0;36m2\u001b[0m\u001b[0;34m\u001b[0m\u001b[0;34m\u001b[0m\u001b[0m\n\u001b[0m\u001b[1;32m      4\u001b[0m \u001b[0mprint\u001b[0m\u001b[0;34m(\u001b[0m\u001b[0;34m\"el area de el circulo es \"\u001b[0m\u001b[0;34m+\u001b[0m\u001b[0msuma\u001b[0m\u001b[0;34m)\u001b[0m\u001b[0;34m\u001b[0m\u001b[0;34m\u001b[0m\u001b[0m\n",
            "\u001b[0;31mTypeError\u001b[0m: can't multiply sequence by non-int of type 'float'"
          ]
        }
      ]
    }
  ]
}