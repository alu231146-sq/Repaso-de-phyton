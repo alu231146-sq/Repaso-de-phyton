{
  "nbformat": 4,
  "nbformat_minor": 0,
  "metadata": {
    "colab": {
      "provenance": [],
      "authorship_tag": "ABX9TyNtaZnAfeXJB40Qn2Jjgwa5",
      "include_colab_link": true
    },
    "kernelspec": {
      "name": "python3",
      "display_name": "Python 3"
    },
    "language_info": {
      "name": "python"
    }
  },
  "cells": [
    {
      "cell_type": "markdown",
      "metadata": {
        "id": "view-in-github",
        "colab_type": "text"
      },
      "source": [
        "<a href=\"https://colab.research.google.com/github/alu231146-sq/Repaso-de-phyton/blob/main/Untitled1.ipynb\" target=\"_parent\"><img src=\"https://colab.research.google.com/assets/colab-badge.svg\" alt=\"Open In Colab\"/></a>"
      ]
    },
    {
      "cell_type": "code",
      "execution_count": 7,
      "metadata": {
        "colab": {
          "base_uri": "https://localhost:8080/"
        },
        "id": "0lJ8PqVc_ZtO",
        "outputId": "683ac6c8-a538-4e2f-a8db-d807b869cebb"
      },
      "outputs": [
        {
          "output_type": "stream",
          "name": "stdout",
          "text": [
            " captura un nombrecarlos\n",
            "el total de caracteres de de el nombre carlos son  6\n"
          ]
        }
      ],
      "source": [
        "nombre=input(\" captura un nombre\")\n",
        "totalletras = len(nombre)\n",
        "print(\"el total de caracteres de de el nombre \"+nombre+\" son \", totalletras)"
      ]
    }
  ]
}