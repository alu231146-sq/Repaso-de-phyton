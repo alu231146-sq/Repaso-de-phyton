{
  "nbformat": 4,
  "nbformat_minor": 0,
  "metadata": {
    "colab": {
      "provenance": [],
      "authorship_tag": "ABX9TyN6NEtOoAPS301ccaW0jzA4",
      "include_colab_link": true
    },
    "kernelspec": {
      "name": "python3",
      "display_name": "Python 3"
    },
    "language_info": {
      "name": "python"
    }
  },
  "cells": [
    {
      "cell_type": "markdown",
      "metadata": {
        "id": "view-in-github",
        "colab_type": "text"
      },
      "source": [
        "<a href=\"https://colab.research.google.com/github/alu231146-sq/Repaso-de-phyton/blob/main/Untitled0.ipynb\" target=\"_parent\"><img src=\"https://colab.research.google.com/assets/colab-badge.svg\" alt=\"Open In Colab\"/></a>"
      ]
    },
    {
      "cell_type": "code",
      "execution_count": null,
      "metadata": {
        "id": "bNvLzEh95NHt"
      },
      "outputs": [],
      "source": []
    },
    {
      "cell_type": "markdown",
      "source": [
        "Ejercicios a desarrollar en colab con github\n",
        "\n",
        "1.Realiza un programa en phyton que te permita capturar 2 numero enteros e imprimir la suma , la resta ,la multiplicacion, y la division de ambos\n",
        "\n",
        "2.Realizar un programa en phyton mediante el cual calculas el total\n",
        "de caracteres que tiene un nombre capturado desde el teclado\n",
        "\n",
        "3.Realizar un programa en phyton que permita imprimir los 7 dias de la semana"
      ],
      "metadata": {
        "id": "bfLv0xOK5RbA"
      }
    },
    {
      "cell_type": "markdown",
      "source": [
        "1"
      ],
      "metadata": {
        "id": "4_hbPzPs7FDK"
      }
    },
    {
      "cell_type": "code",
      "source": [
        "print(\"Ingresa 2 numeros enteros \")\n",
        "n1_str = input(\"N1\")\n",
        "n2_str = input(\"N2\")\n",
        "\n",
        "# Convert the input strings to integers\n",
        "n1 = int(n1_str)\n",
        "n2 = int(n2_str)\n",
        "\n",
        "suma=n1+n2\n",
        "resta=n1-n2\n",
        "multi=n1*n2\n",
        "div=n1/n2\n",
        "\n",
        "print(\"la suma de \"+str(n1)+ \" + \"+str(n2)+\" es \"+str(suma))\n",
        "print(\"la resta de \"+str(n1)+ \" - \"+str(n2)+\" es \"+str(resta))\n",
        "print(\"la multiplicacion de \"+str(n1)+ \" * \"+str(n2)+\" es \"+str(multi))\n",
        "print(\"la division de \"+str(n1)+ \" / \"+str(n2)+\" es \"+str(div))"
      ],
      "metadata": {
        "colab": {
          "base_uri": "https://localhost:8080/"
        },
        "id": "Qi9KTJsn7GQF",
        "outputId": "ab4978e2-961b-4a95-adf0-aec69608392a"
      },
      "execution_count": 7,
      "outputs": [
        {
          "output_type": "stream",
          "name": "stdout",
          "text": [
            "Ingresa 2 numeros enteros \n",
            "N15\n",
            "N210\n",
            "la suma de 5 + 10 es 15\n",
            "la resta de 5 - 10 es -5\n",
            "la multiplicacion de 5 * 10 es 50\n",
            "la division de 5 / 10 es 0.5\n"
          ]
        }
      ]
    }
  ]
}